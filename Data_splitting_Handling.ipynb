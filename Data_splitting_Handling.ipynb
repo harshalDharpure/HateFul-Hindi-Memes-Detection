{
  "nbformat": 4,
  "nbformat_minor": 0,
  "metadata": {
    "colab": {
      "private_outputs": true,
      "provenance": [],
      "authorship_tag": "ABX9TyNEpI7Dhnr4KJOOadGYGTdr",
      "include_colab_link": true
    },
    "kernelspec": {
      "name": "python3",
      "display_name": "Python 3"
    },
    "language_info": {
      "name": "python"
    }
  },
  "cells": [
    {
      "cell_type": "markdown",
      "metadata": {
        "id": "view-in-github",
        "colab_type": "text"
      },
      "source": [
        "<a href=\"https://colab.research.google.com/github/harshalDharpure/HateFul-Hindi-Memes-Detection/blob/main/Data_splitting_Handling.ipynb\" target=\"_parent\"><img src=\"https://colab.research.google.com/assets/colab-badge.svg\" alt=\"Open In Colab\"/></a>"
      ]
    },
    {
      "cell_type": "code",
      "execution_count": null,
      "metadata": {
        "id": "KGi7Pi_rk135"
      },
      "outputs": [],
      "source": [
        "import pandas as pd\n",
        "from sklearn.model_selection import train_test_split\n",
        "\n",
        "# Load the Excel file into a pandas DataFrame\n",
        "excel_file = \"/content/completeexcel.xlsx\"  # Replace with your actual file name\n",
        "data = pd.read_excel(excel_file)\n",
        "\n",
        "# Split the data into features and labels\n",
        "X = data[[\"Name\", \"text\", \"caption\"]]  # Features\n",
        "y = data[\"Label\"]  # Labels\n",
        "\n",
        "# Split the data into training and testing sets (e.g., 80% training, 20% testing)\n",
        "X_train, X_test, y_train, y_test = train_test_split(X, y, test_size=0.2, random_state=42)\n",
        "\n",
        "# Save the training and testing datasets to separate Excel files\n",
        "train_data = pd.concat([X_train, y_train], axis=1)\n",
        "test_data = pd.concat([X_test, y_test], axis=1)\n",
        "\n",
        "train_file = \"train_data.xlsx\"\n",
        "test_file = \"test_data.xlsx\"\n",
        "\n",
        "train_data.to_excel(train_file, index=False)\n",
        "test_data.to_excel(test_file, index=False)\n",
        "\n",
        "print(f\"Training data saved to {train_file}\")\n",
        "print(f\"Testing data saved to {test_file}\")\n"
      ]
    },
    {
      "cell_type": "code",
      "source": [
        "import pandas as pd\n",
        "\n",
        "# Replace these with your actual file names\n",
        "excel_file1 = \"/content/test_data.xlsx\"\n",
        "excel_file2 = \"/content/train_data.xlsx\"\n",
        "\n",
        "# Load the Excel files into pandas DataFrames\n",
        "data1 = pd.read_excel(excel_file1)\n",
        "data2 = pd.read_excel(excel_file2)\n",
        "\n",
        "# Save the data from both files as JSON\n",
        "json_file1 = \"data1.json\"\n",
        "json_file2 = \"data2.json\"\n",
        "\n",
        "data1.to_json(json_file1, orient='records', lines=True)\n",
        "data2.to_json(json_file2, orient='records', lines=True)\n",
        "\n",
        "print(f\"Data from {excel_file1} saved as JSON in {json_file1}\")\n",
        "print(f\"Data from {excel_file2} saved as JSON in {json_file2}\")\n"
      ],
      "metadata": {
        "id": "GfUyUs3IldXg"
      },
      "execution_count": null,
      "outputs": []
    }
  ]
}